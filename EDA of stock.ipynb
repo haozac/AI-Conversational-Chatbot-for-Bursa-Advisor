{
 "cells": [
  {
   "cell_type": "code",
   "execution_count": 20,
   "id": "558d25ef",
   "metadata": {},
   "outputs": [],
   "source": [
    "import pandas as pd\n",
    "import yfinance as yf\n",
    "import seaborn as sns\n",
    "sns.set()\n",
    "import matplotlib.pyplot as plt"
   ]
  },
  {
   "cell_type": "code",
   "execution_count": 23,
   "id": "faae8b2c",
   "metadata": {},
   "outputs": [
    {
     "name": "stdout",
     "output_type": "stream",
     "text": [
      "\r",
      "[*********************100%***********************]  1 of 1 completed"
     ]
    },
    {
     "name": "stderr",
     "output_type": "stream",
     "text": [
      "C:\\Users\\Zac\\anaconda3\\lib\\site-packages\\cryptography\\hazmat\\backends\\openssl\\x509.py:14: CryptographyDeprecationWarning: This version of cryptography contains a temporary pyOpenSSL fallback path. Upgrade pyOpenSSL now.\n",
      "  warnings.warn(\n"
     ]
    },
    {
     "name": "stdout",
     "output_type": "stream",
     "text": [
      "\n"
     ]
    }
   ],
   "source": [
    "data = yf.download('5398.KL').reset_index()"
   ]
  },
  {
   "cell_type": "code",
   "execution_count": 24,
   "id": "8204bfd0",
   "metadata": {},
   "outputs": [
    {
     "data": {
      "text/html": [
       "<div>\n",
       "<style scoped>\n",
       "    .dataframe tbody tr th:only-of-type {\n",
       "        vertical-align: middle;\n",
       "    }\n",
       "\n",
       "    .dataframe tbody tr th {\n",
       "        vertical-align: top;\n",
       "    }\n",
       "\n",
       "    .dataframe thead th {\n",
       "        text-align: right;\n",
       "    }\n",
       "</style>\n",
       "<table border=\"1\" class=\"dataframe\">\n",
       "  <thead>\n",
       "    <tr style=\"text-align: right;\">\n",
       "      <th></th>\n",
       "      <th>Date</th>\n",
       "      <th>Open</th>\n",
       "      <th>High</th>\n",
       "      <th>Low</th>\n",
       "      <th>Close</th>\n",
       "      <th>Adj Close</th>\n",
       "      <th>Volume</th>\n",
       "    </tr>\n",
       "  </thead>\n",
       "  <tbody>\n",
       "    <tr>\n",
       "      <th>0</th>\n",
       "      <td>2000-01-03</td>\n",
       "      <td>4.275</td>\n",
       "      <td>4.600</td>\n",
       "      <td>4.275</td>\n",
       "      <td>4.525</td>\n",
       "      <td>2.269454</td>\n",
       "      <td>1728000</td>\n",
       "    </tr>\n",
       "    <tr>\n",
       "      <th>1</th>\n",
       "      <td>2000-01-04</td>\n",
       "      <td>4.550</td>\n",
       "      <td>4.750</td>\n",
       "      <td>4.550</td>\n",
       "      <td>4.625</td>\n",
       "      <td>2.319607</td>\n",
       "      <td>1426000</td>\n",
       "    </tr>\n",
       "    <tr>\n",
       "      <th>2</th>\n",
       "      <td>2000-01-05</td>\n",
       "      <td>4.525</td>\n",
       "      <td>4.600</td>\n",
       "      <td>4.300</td>\n",
       "      <td>4.575</td>\n",
       "      <td>2.294531</td>\n",
       "      <td>1746000</td>\n",
       "    </tr>\n",
       "    <tr>\n",
       "      <th>3</th>\n",
       "      <td>2000-01-06</td>\n",
       "      <td>4.625</td>\n",
       "      <td>4.675</td>\n",
       "      <td>4.600</td>\n",
       "      <td>4.650</td>\n",
       "      <td>2.347540</td>\n",
       "      <td>1268000</td>\n",
       "    </tr>\n",
       "    <tr>\n",
       "      <th>4</th>\n",
       "      <td>2000-01-07</td>\n",
       "      <td>4.650</td>\n",
       "      <td>4.650</td>\n",
       "      <td>4.650</td>\n",
       "      <td>4.650</td>\n",
       "      <td>2.347540</td>\n",
       "      <td>0</td>\n",
       "    </tr>\n",
       "    <tr>\n",
       "      <th>...</th>\n",
       "      <td>...</td>\n",
       "      <td>...</td>\n",
       "      <td>...</td>\n",
       "      <td>...</td>\n",
       "      <td>...</td>\n",
       "      <td>...</td>\n",
       "      <td>...</td>\n",
       "    </tr>\n",
       "    <tr>\n",
       "      <th>5557</th>\n",
       "      <td>2022-03-07</td>\n",
       "      <td>3.140</td>\n",
       "      <td>3.220</td>\n",
       "      <td>3.100</td>\n",
       "      <td>3.120</td>\n",
       "      <td>3.120000</td>\n",
       "      <td>3253000</td>\n",
       "    </tr>\n",
       "    <tr>\n",
       "      <th>5558</th>\n",
       "      <td>2022-03-08</td>\n",
       "      <td>3.080</td>\n",
       "      <td>3.100</td>\n",
       "      <td>3.030</td>\n",
       "      <td>3.060</td>\n",
       "      <td>3.060000</td>\n",
       "      <td>1563000</td>\n",
       "    </tr>\n",
       "    <tr>\n",
       "      <th>5559</th>\n",
       "      <td>2022-03-09</td>\n",
       "      <td>3.060</td>\n",
       "      <td>3.150</td>\n",
       "      <td>3.060</td>\n",
       "      <td>3.110</td>\n",
       "      <td>3.110000</td>\n",
       "      <td>2289500</td>\n",
       "    </tr>\n",
       "    <tr>\n",
       "      <th>5560</th>\n",
       "      <td>2022-03-10</td>\n",
       "      <td>3.120</td>\n",
       "      <td>3.250</td>\n",
       "      <td>3.120</td>\n",
       "      <td>3.210</td>\n",
       "      <td>3.210000</td>\n",
       "      <td>5421000</td>\n",
       "    </tr>\n",
       "    <tr>\n",
       "      <th>5561</th>\n",
       "      <td>2022-03-11</td>\n",
       "      <td>3.220</td>\n",
       "      <td>3.220</td>\n",
       "      <td>3.170</td>\n",
       "      <td>3.180</td>\n",
       "      <td>3.180000</td>\n",
       "      <td>3478900</td>\n",
       "    </tr>\n",
       "  </tbody>\n",
       "</table>\n",
       "<p>5562 rows × 7 columns</p>\n",
       "</div>"
      ],
      "text/plain": [
       "           Date   Open   High    Low  Close  Adj Close   Volume\n",
       "0    2000-01-03  4.275  4.600  4.275  4.525   2.269454  1728000\n",
       "1    2000-01-04  4.550  4.750  4.550  4.625   2.319607  1426000\n",
       "2    2000-01-05  4.525  4.600  4.300  4.575   2.294531  1746000\n",
       "3    2000-01-06  4.625  4.675  4.600  4.650   2.347540  1268000\n",
       "4    2000-01-07  4.650  4.650  4.650  4.650   2.347540        0\n",
       "...         ...    ...    ...    ...    ...        ...      ...\n",
       "5557 2022-03-07  3.140  3.220  3.100  3.120   3.120000  3253000\n",
       "5558 2022-03-08  3.080  3.100  3.030  3.060   3.060000  1563000\n",
       "5559 2022-03-09  3.060  3.150  3.060  3.110   3.110000  2289500\n",
       "5560 2022-03-10  3.120  3.250  3.120  3.210   3.210000  5421000\n",
       "5561 2022-03-11  3.220  3.220  3.170  3.180   3.180000  3478900\n",
       "\n",
       "[5562 rows x 7 columns]"
      ]
     },
     "execution_count": 24,
     "metadata": {},
     "output_type": "execute_result"
    }
   ],
   "source": [
    "data"
   ]
  },
  {
   "cell_type": "code",
   "execution_count": 25,
   "id": "8970cb4c",
   "metadata": {},
   "outputs": [
    {
     "data": {
      "text/html": [
       "<div>\n",
       "<style scoped>\n",
       "    .dataframe tbody tr th:only-of-type {\n",
       "        vertical-align: middle;\n",
       "    }\n",
       "\n",
       "    .dataframe tbody tr th {\n",
       "        vertical-align: top;\n",
       "    }\n",
       "\n",
       "    .dataframe thead th {\n",
       "        text-align: right;\n",
       "    }\n",
       "</style>\n",
       "<table border=\"1\" class=\"dataframe\">\n",
       "  <thead>\n",
       "    <tr style=\"text-align: right;\">\n",
       "      <th></th>\n",
       "      <th>Open</th>\n",
       "      <th>High</th>\n",
       "      <th>Low</th>\n",
       "      <th>Close</th>\n",
       "      <th>Adj Close</th>\n",
       "      <th>Volume</th>\n",
       "    </tr>\n",
       "  </thead>\n",
       "  <tbody>\n",
       "    <tr>\n",
       "      <th>count</th>\n",
       "      <td>5562.000000</td>\n",
       "      <td>5562.000000</td>\n",
       "      <td>5562.000000</td>\n",
       "      <td>5562.000000</td>\n",
       "      <td>5562.000000</td>\n",
       "      <td>5.562000e+03</td>\n",
       "    </tr>\n",
       "    <tr>\n",
       "      <th>mean</th>\n",
       "      <td>3.411231</td>\n",
       "      <td>3.449224</td>\n",
       "      <td>3.372413</td>\n",
       "      <td>3.411660</td>\n",
       "      <td>2.592934</td>\n",
       "      <td>4.775373e+06</td>\n",
       "    </tr>\n",
       "    <tr>\n",
       "      <th>std</th>\n",
       "      <td>1.031453</td>\n",
       "      <td>1.037301</td>\n",
       "      <td>1.024872</td>\n",
       "      <td>1.031517</td>\n",
       "      <td>1.138825</td>\n",
       "      <td>6.456057e+06</td>\n",
       "    </tr>\n",
       "    <tr>\n",
       "      <th>min</th>\n",
       "      <td>1.300000</td>\n",
       "      <td>1.400000</td>\n",
       "      <td>1.250000</td>\n",
       "      <td>1.350000</td>\n",
       "      <td>0.853596</td>\n",
       "      <td>0.000000e+00</td>\n",
       "    </tr>\n",
       "    <tr>\n",
       "      <th>25%</th>\n",
       "      <td>2.625000</td>\n",
       "      <td>2.670000</td>\n",
       "      <td>2.600000</td>\n",
       "      <td>2.625000</td>\n",
       "      <td>1.497587</td>\n",
       "      <td>1.661625e+06</td>\n",
       "    </tr>\n",
       "    <tr>\n",
       "      <th>50%</th>\n",
       "      <td>3.300000</td>\n",
       "      <td>3.345000</td>\n",
       "      <td>3.250000</td>\n",
       "      <td>3.300000</td>\n",
       "      <td>2.635177</td>\n",
       "      <td>3.321800e+06</td>\n",
       "    </tr>\n",
       "    <tr>\n",
       "      <th>75%</th>\n",
       "      <td>4.250000</td>\n",
       "      <td>4.317500</td>\n",
       "      <td>4.175000</td>\n",
       "      <td>4.250000</td>\n",
       "      <td>3.620285</td>\n",
       "      <td>5.950525e+06</td>\n",
       "    </tr>\n",
       "    <tr>\n",
       "      <th>max</th>\n",
       "      <td>6.000000</td>\n",
       "      <td>6.000000</td>\n",
       "      <td>5.850000</td>\n",
       "      <td>5.900000</td>\n",
       "      <td>4.877608</td>\n",
       "      <td>1.532165e+08</td>\n",
       "    </tr>\n",
       "  </tbody>\n",
       "</table>\n",
       "</div>"
      ],
      "text/plain": [
       "              Open         High          Low        Close    Adj Close  \\\n",
       "count  5562.000000  5562.000000  5562.000000  5562.000000  5562.000000   \n",
       "mean      3.411231     3.449224     3.372413     3.411660     2.592934   \n",
       "std       1.031453     1.037301     1.024872     1.031517     1.138825   \n",
       "min       1.300000     1.400000     1.250000     1.350000     0.853596   \n",
       "25%       2.625000     2.670000     2.600000     2.625000     1.497587   \n",
       "50%       3.300000     3.345000     3.250000     3.300000     2.635177   \n",
       "75%       4.250000     4.317500     4.175000     4.250000     3.620285   \n",
       "max       6.000000     6.000000     5.850000     5.900000     4.877608   \n",
       "\n",
       "             Volume  \n",
       "count  5.562000e+03  \n",
       "mean   4.775373e+06  \n",
       "std    6.456057e+06  \n",
       "min    0.000000e+00  \n",
       "25%    1.661625e+06  \n",
       "50%    3.321800e+06  \n",
       "75%    5.950525e+06  \n",
       "max    1.532165e+08  "
      ]
     },
     "execution_count": 25,
     "metadata": {},
     "output_type": "execute_result"
    }
   ],
   "source": [
    "data.describe()"
   ]
  },
  {
   "cell_type": "code",
   "execution_count": 26,
   "id": "ac2bc4e8",
   "metadata": {},
   "outputs": [
    {
     "data": {
      "text/plain": [
       "Date         0\n",
       "Open         0\n",
       "High         0\n",
       "Low          0\n",
       "Close        0\n",
       "Adj Close    0\n",
       "Volume       0\n",
       "dtype: int64"
      ]
     },
     "execution_count": 26,
     "metadata": {},
     "output_type": "execute_result"
    }
   ],
   "source": [
    "data.isnull().sum()"
   ]
  },
  {
   "cell_type": "code",
   "execution_count": 27,
   "id": "061adf2a",
   "metadata": {},
   "outputs": [
    {
     "data": {
      "text/plain": [
       "<AxesSubplot:>"
      ]
     },
     "execution_count": 27,
     "metadata": {},
     "output_type": "execute_result"
    },
    {
     "data": {
      "image/png": "[encoded data removed]",
      "text/plain": [
       "<Figure size 432x288 with 1 Axes>"
      ]
     },
     "metadata": {},
     "output_type": "display_data"
    }
   ],
   "source": [
    "data2 = data.copy()\n",
    "data2.iloc[1:50,data2.columns.get_loc('Volume')] = None\n",
    "sns.heatmap(data2.isnull(),cbar=False,cmap = 'viridis') # to check null values"
   ]
  },
  {
   "cell_type": "markdown",
   "id": "effffe75",
   "metadata": {},
   "source": [
    "From the above heatmap, you can see a large number of 1s and values close to 1. This means those variables show high positive correlations and are interrelated. This might be possible because of the comparatively very small difference between those values. However, in-stock market this small value is what makes the difference. So, what we are going to do, is add new variables to our dataset that represents the difference between those values."
   ]
  },
  {
   "cell_type": "code",
   "execution_count": 32,
   "id": "1926f483",
   "metadata": {},
   "outputs": [
    {
     "data": {
      "text/plain": [
       "<AxesSubplot:>"
      ]
     },
     "execution_count": 32,
     "metadata": {},
     "output_type": "execute_result"
    },
    {
     "data": {
      "image/png": "[encoded data removed]",
      "text/plain": [
       "<Figure size 864x504 with 2 Axes>"
      ]
     },
     "metadata": {},
     "output_type": "display_data"
    }
   ],
   "source": [
    "plt.figure(figsize=(12,7))\n",
    "sns.heatmap(data.corr(),cmap='Blues', annot= True)"
   ]
  },
  {
   "cell_type": "code",
   "execution_count": 33,
   "id": "be6366ba",
   "metadata": {},
   "outputs": [
    {
     "data": {
      "text/html": [
       "<div>\n",
       "<style scoped>\n",
       "    .dataframe tbody tr th:only-of-type {\n",
       "        vertical-align: middle;\n",
       "    }\n",
       "\n",
       "    .dataframe tbody tr th {\n",
       "        vertical-align: top;\n",
       "    }\n",
       "\n",
       "    .dataframe thead th {\n",
       "        text-align: right;\n",
       "    }\n",
       "</style>\n",
       "<table border=\"1\" class=\"dataframe\">\n",
       "  <thead>\n",
       "    <tr style=\"text-align: right;\">\n",
       "      <th></th>\n",
       "      <th>Date</th>\n",
       "      <th>Open</th>\n",
       "      <th>High</th>\n",
       "      <th>Low</th>\n",
       "      <th>Close</th>\n",
       "      <th>Adj Close</th>\n",
       "      <th>Volume</th>\n",
       "      <th>open-high</th>\n",
       "      <th>open-low</th>\n",
       "      <th>close-high</th>\n",
       "      <th>close-low</th>\n",
       "      <th>high-low</th>\n",
       "      <th>open-close</th>\n",
       "    </tr>\n",
       "  </thead>\n",
       "  <tbody>\n",
       "    <tr>\n",
       "      <th>0</th>\n",
       "      <td>2000-01-03</td>\n",
       "      <td>4.275</td>\n",
       "      <td>4.600</td>\n",
       "      <td>4.275</td>\n",
       "      <td>4.525</td>\n",
       "      <td>2.269454</td>\n",
       "      <td>1728000</td>\n",
       "      <td>-0.325</td>\n",
       "      <td>0.000</td>\n",
       "      <td>-0.075</td>\n",
       "      <td>0.250</td>\n",
       "      <td>0.325</td>\n",
       "      <td>-0.250</td>\n",
       "    </tr>\n",
       "    <tr>\n",
       "      <th>1</th>\n",
       "      <td>2000-01-04</td>\n",
       "      <td>4.550</td>\n",
       "      <td>4.750</td>\n",
       "      <td>4.550</td>\n",
       "      <td>4.625</td>\n",
       "      <td>2.319607</td>\n",
       "      <td>1426000</td>\n",
       "      <td>-0.200</td>\n",
       "      <td>0.000</td>\n",
       "      <td>-0.125</td>\n",
       "      <td>0.075</td>\n",
       "      <td>0.200</td>\n",
       "      <td>-0.075</td>\n",
       "    </tr>\n",
       "    <tr>\n",
       "      <th>2</th>\n",
       "      <td>2000-01-05</td>\n",
       "      <td>4.525</td>\n",
       "      <td>4.600</td>\n",
       "      <td>4.300</td>\n",
       "      <td>4.575</td>\n",
       "      <td>2.294531</td>\n",
       "      <td>1746000</td>\n",
       "      <td>-0.075</td>\n",
       "      <td>0.225</td>\n",
       "      <td>-0.025</td>\n",
       "      <td>0.275</td>\n",
       "      <td>0.300</td>\n",
       "      <td>-0.050</td>\n",
       "    </tr>\n",
       "    <tr>\n",
       "      <th>3</th>\n",
       "      <td>2000-01-06</td>\n",
       "      <td>4.625</td>\n",
       "      <td>4.675</td>\n",
       "      <td>4.600</td>\n",
       "      <td>4.650</td>\n",
       "      <td>2.347540</td>\n",
       "      <td>1268000</td>\n",
       "      <td>-0.050</td>\n",
       "      <td>0.025</td>\n",
       "      <td>-0.025</td>\n",
       "      <td>0.050</td>\n",
       "      <td>0.075</td>\n",
       "      <td>-0.025</td>\n",
       "    </tr>\n",
       "    <tr>\n",
       "      <th>4</th>\n",
       "      <td>2000-01-07</td>\n",
       "      <td>4.650</td>\n",
       "      <td>4.650</td>\n",
       "      <td>4.650</td>\n",
       "      <td>4.650</td>\n",
       "      <td>2.347540</td>\n",
       "      <td>0</td>\n",
       "      <td>0.000</td>\n",
       "      <td>0.000</td>\n",
       "      <td>0.000</td>\n",
       "      <td>0.000</td>\n",
       "      <td>0.000</td>\n",
       "      <td>0.000</td>\n",
       "    </tr>\n",
       "  </tbody>\n",
       "</table>\n",
       "</div>"
      ],
      "text/plain": [
       "        Date   Open   High    Low  Close  Adj Close   Volume  open-high  \\\n",
       "0 2000-01-03  4.275  4.600  4.275  4.525   2.269454  1728000     -0.325   \n",
       "1 2000-01-04  4.550  4.750  4.550  4.625   2.319607  1426000     -0.200   \n",
       "2 2000-01-05  4.525  4.600  4.300  4.575   2.294531  1746000     -0.075   \n",
       "3 2000-01-06  4.625  4.675  4.600  4.650   2.347540  1268000     -0.050   \n",
       "4 2000-01-07  4.650  4.650  4.650  4.650   2.347540        0      0.000   \n",
       "\n",
       "   open-low  close-high  close-low  high-low  open-close  \n",
       "0     0.000      -0.075      0.250     0.325      -0.250  \n",
       "1     0.000      -0.125      0.075     0.200      -0.075  \n",
       "2     0.225      -0.025      0.275     0.300      -0.050  \n",
       "3     0.025      -0.025      0.050     0.075      -0.025  \n",
       "4     0.000       0.000      0.000     0.000       0.000  "
      ]
     },
     "execution_count": 33,
     "metadata": {},
     "output_type": "execute_result"
    }
   ],
   "source": [
    "data['open-high'] = data['Open']-data['High']\n",
    "data['open-low'] = data['Open'] - data['Low']\n",
    "data['close-high'] = data['Close']-data['High']\n",
    "data['close-low'] = data['Close'] - data['Low']\n",
    "data['high-low'] = data['High'] - data['Low']\n",
    "data['open-close'] = data['Open'] - data['Close']\n",
    "data.head()"
   ]
  },
  {
   "cell_type": "code",
   "execution_count": 34,
   "id": "0fcb1c62",
   "metadata": {},
   "outputs": [
    {
     "data": {
      "text/plain": [
       "<AxesSubplot:>"
      ]
     },
     "execution_count": 34,
     "metadata": {},
     "output_type": "execute_result"
    },
    {
     "data": {
      "image/png": "[encoded data removed]",
      "text/plain": [
       "<Figure size 864x504 with 2 Axes>"
      ]
     },
     "metadata": {},
     "output_type": "display_data"
    }
   ],
   "source": [
    "data2 = data.copy()\n",
    "data2 = data2.drop(['Open','High','Low','Close', 'Adj Close'],axis=1)\n",
    "plt.figure(figsize=(12,7))\n",
    "sns.heatmap(data2.corr(),cmap='Blues',annot=True)"
   ]
  },
  {
   "cell_type": "markdown",
   "id": "095ca4b8",
   "metadata": {},
   "source": [
    "The stock market is all about numbers. Understanding these numbers and finding the pattern is an art, and we the data analysts are the artists. The main variable we are going to focus on in this dataset is the ‘Volume’. Variables having a large correlation value with volume represent that those numbers might have intrigued a large number of buyers and sellers. Correlation between those features and the volume feature will tell us how a change in that feature impacts the number of stocks traded that day.\n",
    "\n",
    "The close-high shows the most negative correlation with the volume feature. This means that the greater the difference between the closing value of the stock and the highest value of stock that day, the greater will be the stocks traded that day. As there is no information about the number of buyers and sellers, we can only guess that a high difference in closing and highest value of the stock might attract more buyers. Whereas a fewer difference may attract more sellers."
   ]
  },
  {
   "cell_type": "code",
   "execution_count": 38,
   "id": "84b1a0a8",
   "metadata": {},
   "outputs": [
    {
     "data": {
      "text/plain": [
       "<AxesSubplot:xlabel='close-high', ylabel='Volume'>"
      ]
     },
     "execution_count": 38,
     "metadata": {},
     "output_type": "execute_result"
    },
    {
     "data": {
      "image/png": "[encoded data removed]",
      "text/plain": [
       "<Figure size 864x504 with 1 Axes>"
      ]
     },
     "metadata": {},
     "output_type": "display_data"
    }
   ],
   "source": [
    "plt.figure(figsize=(12,7))\n",
    "sns.barplot(data=data, x = \"close-high\", y=\"Volume\")"
   ]
  },
  {
   "cell_type": "markdown",
   "id": "10a0c293",
   "metadata": {},
   "source": [
    "The ‘high-low’ feature shows the maximum value of correlation with the ‘volume’ feature. Thus we can think that a greater fluctuation in the stock price may be a reason behind more transactions of stocks that day.\n",
    "\n",
    "From the below graph you can observe the volume of stocks traded is high for larger values of high-low."
   ]
  },
  {
   "cell_type": "code",
   "execution_count": 37,
   "id": "ae6327b5",
   "metadata": {},
   "outputs": [
    {
     "data": {
      "text/plain": [
       "<AxesSubplot:xlabel='high-low', ylabel='Volume'>"
      ]
     },
     "execution_count": 37,
     "metadata": {},
     "output_type": "execute_result"
    },
    {
     "data": {
      "image/png": "[encoded data removed]",
      "text/plain": [
       "<Figure size 864x504 with 1 Axes>"
      ]
     },
     "metadata": {},
     "output_type": "display_data"
    }
   ],
   "source": [
    "plt.figure(figsize=(12,7))\n",
    "sns.barplot(data=data, x = \"high-low\", y=\"Volume\")"
   ]
  },
  {
   "cell_type": "code",
   "execution_count": 39,
   "id": "9612547c",
   "metadata": {},
   "outputs": [
    {
     "data": {
      "text/html": [
       "<div>\n",
       "<style scoped>\n",
       "    .dataframe tbody tr th:only-of-type {\n",
       "        vertical-align: middle;\n",
       "    }\n",
       "\n",
       "    .dataframe tbody tr th {\n",
       "        vertical-align: top;\n",
       "    }\n",
       "\n",
       "    .dataframe thead th {\n",
       "        text-align: right;\n",
       "    }\n",
       "</style>\n",
       "<table border=\"1\" class=\"dataframe\">\n",
       "  <thead>\n",
       "    <tr style=\"text-align: right;\">\n",
       "      <th></th>\n",
       "      <th>Date</th>\n",
       "      <th>Open</th>\n",
       "      <th>High</th>\n",
       "      <th>Low</th>\n",
       "      <th>Close</th>\n",
       "      <th>Adj Close</th>\n",
       "      <th>Volume</th>\n",
       "      <th>open-high</th>\n",
       "      <th>open-low</th>\n",
       "      <th>close-high</th>\n",
       "      <th>close-low</th>\n",
       "      <th>high-low</th>\n",
       "      <th>open-close</th>\n",
       "    </tr>\n",
       "  </thead>\n",
       "  <tbody>\n",
       "    <tr>\n",
       "      <th>0</th>\n",
       "      <td>2000-01-03</td>\n",
       "      <td>4.275</td>\n",
       "      <td>4.600</td>\n",
       "      <td>4.275</td>\n",
       "      <td>4.525</td>\n",
       "      <td>2.269454</td>\n",
       "      <td>1728000</td>\n",
       "      <td>-0.325</td>\n",
       "      <td>0.000</td>\n",
       "      <td>-0.075</td>\n",
       "      <td>0.250</td>\n",
       "      <td>0.325</td>\n",
       "      <td>-0.250</td>\n",
       "    </tr>\n",
       "    <tr>\n",
       "      <th>1</th>\n",
       "      <td>2000-01-04</td>\n",
       "      <td>4.550</td>\n",
       "      <td>4.750</td>\n",
       "      <td>4.550</td>\n",
       "      <td>4.625</td>\n",
       "      <td>2.319607</td>\n",
       "      <td>1426000</td>\n",
       "      <td>-0.200</td>\n",
       "      <td>0.000</td>\n",
       "      <td>-0.125</td>\n",
       "      <td>0.075</td>\n",
       "      <td>0.200</td>\n",
       "      <td>-0.075</td>\n",
       "    </tr>\n",
       "    <tr>\n",
       "      <th>2</th>\n",
       "      <td>2000-01-05</td>\n",
       "      <td>4.525</td>\n",
       "      <td>4.600</td>\n",
       "      <td>4.300</td>\n",
       "      <td>4.575</td>\n",
       "      <td>2.294531</td>\n",
       "      <td>1746000</td>\n",
       "      <td>-0.075</td>\n",
       "      <td>0.225</td>\n",
       "      <td>-0.025</td>\n",
       "      <td>0.275</td>\n",
       "      <td>0.300</td>\n",
       "      <td>-0.050</td>\n",
       "    </tr>\n",
       "    <tr>\n",
       "      <th>3</th>\n",
       "      <td>2000-01-06</td>\n",
       "      <td>4.625</td>\n",
       "      <td>4.675</td>\n",
       "      <td>4.600</td>\n",
       "      <td>4.650</td>\n",
       "      <td>2.347540</td>\n",
       "      <td>1268000</td>\n",
       "      <td>-0.050</td>\n",
       "      <td>0.025</td>\n",
       "      <td>-0.025</td>\n",
       "      <td>0.050</td>\n",
       "      <td>0.075</td>\n",
       "      <td>-0.025</td>\n",
       "    </tr>\n",
       "    <tr>\n",
       "      <th>4</th>\n",
       "      <td>2000-01-07</td>\n",
       "      <td>4.650</td>\n",
       "      <td>4.650</td>\n",
       "      <td>4.650</td>\n",
       "      <td>4.650</td>\n",
       "      <td>2.347540</td>\n",
       "      <td>0</td>\n",
       "      <td>0.000</td>\n",
       "      <td>0.000</td>\n",
       "      <td>0.000</td>\n",
       "      <td>0.000</td>\n",
       "      <td>0.000</td>\n",
       "      <td>0.000</td>\n",
       "    </tr>\n",
       "    <tr>\n",
       "      <th>...</th>\n",
       "      <td>...</td>\n",
       "      <td>...</td>\n",
       "      <td>...</td>\n",
       "      <td>...</td>\n",
       "      <td>...</td>\n",
       "      <td>...</td>\n",
       "      <td>...</td>\n",
       "      <td>...</td>\n",
       "      <td>...</td>\n",
       "      <td>...</td>\n",
       "      <td>...</td>\n",
       "      <td>...</td>\n",
       "      <td>...</td>\n",
       "    </tr>\n",
       "    <tr>\n",
       "      <th>5557</th>\n",
       "      <td>2022-03-07</td>\n",
       "      <td>3.140</td>\n",
       "      <td>3.220</td>\n",
       "      <td>3.100</td>\n",
       "      <td>3.120</td>\n",
       "      <td>3.120000</td>\n",
       "      <td>3253000</td>\n",
       "      <td>-0.080</td>\n",
       "      <td>0.040</td>\n",
       "      <td>-0.100</td>\n",
       "      <td>0.020</td>\n",
       "      <td>0.120</td>\n",
       "      <td>0.020</td>\n",
       "    </tr>\n",
       "    <tr>\n",
       "      <th>5558</th>\n",
       "      <td>2022-03-08</td>\n",
       "      <td>3.080</td>\n",
       "      <td>3.100</td>\n",
       "      <td>3.030</td>\n",
       "      <td>3.060</td>\n",
       "      <td>3.060000</td>\n",
       "      <td>1563000</td>\n",
       "      <td>-0.020</td>\n",
       "      <td>0.050</td>\n",
       "      <td>-0.040</td>\n",
       "      <td>0.030</td>\n",
       "      <td>0.070</td>\n",
       "      <td>0.020</td>\n",
       "    </tr>\n",
       "    <tr>\n",
       "      <th>5559</th>\n",
       "      <td>2022-03-09</td>\n",
       "      <td>3.060</td>\n",
       "      <td>3.150</td>\n",
       "      <td>3.060</td>\n",
       "      <td>3.110</td>\n",
       "      <td>3.110000</td>\n",
       "      <td>2289500</td>\n",
       "      <td>-0.090</td>\n",
       "      <td>0.000</td>\n",
       "      <td>-0.040</td>\n",
       "      <td>0.050</td>\n",
       "      <td>0.090</td>\n",
       "      <td>-0.050</td>\n",
       "    </tr>\n",
       "    <tr>\n",
       "      <th>5560</th>\n",
       "      <td>2022-03-10</td>\n",
       "      <td>3.120</td>\n",
       "      <td>3.250</td>\n",
       "      <td>3.120</td>\n",
       "      <td>3.210</td>\n",
       "      <td>3.210000</td>\n",
       "      <td>5421000</td>\n",
       "      <td>-0.130</td>\n",
       "      <td>0.000</td>\n",
       "      <td>-0.040</td>\n",
       "      <td>0.090</td>\n",
       "      <td>0.130</td>\n",
       "      <td>-0.090</td>\n",
       "    </tr>\n",
       "    <tr>\n",
       "      <th>5561</th>\n",
       "      <td>2022-03-11</td>\n",
       "      <td>3.220</td>\n",
       "      <td>3.220</td>\n",
       "      <td>3.170</td>\n",
       "      <td>3.180</td>\n",
       "      <td>3.180000</td>\n",
       "      <td>3478900</td>\n",
       "      <td>0.000</td>\n",
       "      <td>0.050</td>\n",
       "      <td>-0.040</td>\n",
       "      <td>0.010</td>\n",
       "      <td>0.050</td>\n",
       "      <td>0.040</td>\n",
       "    </tr>\n",
       "  </tbody>\n",
       "</table>\n",
       "<p>5562 rows × 13 columns</p>\n",
       "</div>"
      ],
      "text/plain": [
       "           Date   Open   High    Low  Close  Adj Close   Volume  open-high  \\\n",
       "0    2000-01-03  4.275  4.600  4.275  4.525   2.269454  1728000     -0.325   \n",
       "1    2000-01-04  4.550  4.750  4.550  4.625   2.319607  1426000     -0.200   \n",
       "2    2000-01-05  4.525  4.600  4.300  4.575   2.294531  1746000     -0.075   \n",
       "3    2000-01-06  4.625  4.675  4.600  4.650   2.347540  1268000     -0.050   \n",
       "4    2000-01-07  4.650  4.650  4.650  4.650   2.347540        0      0.000   \n",
       "...         ...    ...    ...    ...    ...        ...      ...        ...   \n",
       "5557 2022-03-07  3.140  3.220  3.100  3.120   3.120000  3253000     -0.080   \n",
       "5558 2022-03-08  3.080  3.100  3.030  3.060   3.060000  1563000     -0.020   \n",
       "5559 2022-03-09  3.060  3.150  3.060  3.110   3.110000  2289500     -0.090   \n",
       "5560 2022-03-10  3.120  3.250  3.120  3.210   3.210000  5421000     -0.130   \n",
       "5561 2022-03-11  3.220  3.220  3.170  3.180   3.180000  3478900      0.000   \n",
       "\n",
       "      open-low  close-high  close-low  high-low  open-close  \n",
       "0        0.000      -0.075      0.250     0.325      -0.250  \n",
       "1        0.000      -0.125      0.075     0.200      -0.075  \n",
       "2        0.225      -0.025      0.275     0.300      -0.050  \n",
       "3        0.025      -0.025      0.050     0.075      -0.025  \n",
       "4        0.000       0.000      0.000     0.000       0.000  \n",
       "...        ...         ...        ...       ...         ...  \n",
       "5557     0.040      -0.100      0.020     0.120       0.020  \n",
       "5558     0.050      -0.040      0.030     0.070       0.020  \n",
       "5559     0.000      -0.040      0.050     0.090      -0.050  \n",
       "5560     0.000      -0.040      0.090     0.130      -0.090  \n",
       "5561     0.050      -0.040      0.010     0.050       0.040  \n",
       "\n",
       "[5562 rows x 13 columns]"
      ]
     },
     "execution_count": 39,
     "metadata": {},
     "output_type": "execute_result"
    }
   ],
   "source": [
    "data"
   ]
  },
  {
   "cell_type": "code",
   "execution_count": 40,
   "id": "268c4827",
   "metadata": {},
   "outputs": [
    {
     "data": {
      "text/plain": [
       "(array([ 9496., 10957., 12418., 13879., 15340., 16801., 18262., 19723.]),\n",
       " [Text(0, 0, ''),\n",
       "  Text(0, 0, ''),\n",
       "  Text(0, 0, ''),\n",
       "  Text(0, 0, ''),\n",
       "  Text(0, 0, ''),\n",
       "  Text(0, 0, ''),\n",
       "  Text(0, 0, ''),\n",
       "  Text(0, 0, '')])"
      ]
     },
     "execution_count": 40,
     "metadata": {},
     "output_type": "execute_result"
    },
    {
     "data": {
      "image/png": "[encoded data removed]",
      "text/plain": [
       "<Figure size 1440x576 with 1 Axes>"
      ]
     },
     "metadata": {},
     "output_type": "display_data"
    }
   ],
   "source": [
    "plt.figure(figsize=(20,8))\n",
    "plt.plot('Date','Close',data=data)\n",
    "plt.xlabel('Date')\n",
    "plt.ylabel('Close Price')\n",
    "plt.xticks(rotation=45)"
   ]
  },
  {
   "cell_type": "code",
   "execution_count": 42,
   "id": "4413769e",
   "metadata": {},
   "outputs": [
    {
     "data": {
      "text/html": [
       "<div>\n",
       "<style scoped>\n",
       "    .dataframe tbody tr th:only-of-type {\n",
       "        vertical-align: middle;\n",
       "    }\n",
       "\n",
       "    .dataframe tbody tr th {\n",
       "        vertical-align: top;\n",
       "    }\n",
       "\n",
       "    .dataframe thead th {\n",
       "        text-align: right;\n",
       "    }\n",
       "</style>\n",
       "<table border=\"1\" class=\"dataframe\">\n",
       "  <thead>\n",
       "    <tr style=\"text-align: right;\">\n",
       "      <th></th>\n",
       "      <th>Date</th>\n",
       "      <th>Open</th>\n",
       "      <th>High</th>\n",
       "      <th>Low</th>\n",
       "      <th>Close</th>\n",
       "      <th>Adj Close</th>\n",
       "      <th>Volume</th>\n",
       "      <th>open-high</th>\n",
       "      <th>open-low</th>\n",
       "      <th>close-high</th>\n",
       "      <th>close-low</th>\n",
       "      <th>high-low</th>\n",
       "      <th>open-close</th>\n",
       "      <th>Daily Lag</th>\n",
       "    </tr>\n",
       "  </thead>\n",
       "  <tbody>\n",
       "    <tr>\n",
       "      <th>0</th>\n",
       "      <td>2000-01-03</td>\n",
       "      <td>4.275</td>\n",
       "      <td>4.600</td>\n",
       "      <td>4.275</td>\n",
       "      <td>4.525</td>\n",
       "      <td>2.269454</td>\n",
       "      <td>1728000</td>\n",
       "      <td>-0.325</td>\n",
       "      <td>0.000</td>\n",
       "      <td>-0.075</td>\n",
       "      <td>0.250</td>\n",
       "      <td>0.325</td>\n",
       "      <td>-0.250</td>\n",
       "      <td>NaN</td>\n",
       "    </tr>\n",
       "    <tr>\n",
       "      <th>1</th>\n",
       "      <td>2000-01-04</td>\n",
       "      <td>4.550</td>\n",
       "      <td>4.750</td>\n",
       "      <td>4.550</td>\n",
       "      <td>4.625</td>\n",
       "      <td>2.319607</td>\n",
       "      <td>1426000</td>\n",
       "      <td>-0.200</td>\n",
       "      <td>0.000</td>\n",
       "      <td>-0.125</td>\n",
       "      <td>0.075</td>\n",
       "      <td>0.200</td>\n",
       "      <td>-0.075</td>\n",
       "      <td>4.525</td>\n",
       "    </tr>\n",
       "    <tr>\n",
       "      <th>2</th>\n",
       "      <td>2000-01-05</td>\n",
       "      <td>4.525</td>\n",
       "      <td>4.600</td>\n",
       "      <td>4.300</td>\n",
       "      <td>4.575</td>\n",
       "      <td>2.294531</td>\n",
       "      <td>1746000</td>\n",
       "      <td>-0.075</td>\n",
       "      <td>0.225</td>\n",
       "      <td>-0.025</td>\n",
       "      <td>0.275</td>\n",
       "      <td>0.300</td>\n",
       "      <td>-0.050</td>\n",
       "      <td>4.625</td>\n",
       "    </tr>\n",
       "    <tr>\n",
       "      <th>3</th>\n",
       "      <td>2000-01-06</td>\n",
       "      <td>4.625</td>\n",
       "      <td>4.675</td>\n",
       "      <td>4.600</td>\n",
       "      <td>4.650</td>\n",
       "      <td>2.347540</td>\n",
       "      <td>1268000</td>\n",
       "      <td>-0.050</td>\n",
       "      <td>0.025</td>\n",
       "      <td>-0.025</td>\n",
       "      <td>0.050</td>\n",
       "      <td>0.075</td>\n",
       "      <td>-0.025</td>\n",
       "      <td>4.575</td>\n",
       "    </tr>\n",
       "    <tr>\n",
       "      <th>4</th>\n",
       "      <td>2000-01-07</td>\n",
       "      <td>4.650</td>\n",
       "      <td>4.650</td>\n",
       "      <td>4.650</td>\n",
       "      <td>4.650</td>\n",
       "      <td>2.347540</td>\n",
       "      <td>0</td>\n",
       "      <td>0.000</td>\n",
       "      <td>0.000</td>\n",
       "      <td>0.000</td>\n",
       "      <td>0.000</td>\n",
       "      <td>0.000</td>\n",
       "      <td>0.000</td>\n",
       "      <td>4.650</td>\n",
       "    </tr>\n",
       "  </tbody>\n",
       "</table>\n",
       "</div>"
      ],
      "text/plain": [
       "        Date   Open   High    Low  Close  Adj Close   Volume  open-high  \\\n",
       "0 2000-01-03  4.275  4.600  4.275  4.525   2.269454  1728000     -0.325   \n",
       "1 2000-01-04  4.550  4.750  4.550  4.625   2.319607  1426000     -0.200   \n",
       "2 2000-01-05  4.525  4.600  4.300  4.575   2.294531  1746000     -0.075   \n",
       "3 2000-01-06  4.625  4.675  4.600  4.650   2.347540  1268000     -0.050   \n",
       "4 2000-01-07  4.650  4.650  4.650  4.650   2.347540        0      0.000   \n",
       "\n",
       "   open-low  close-high  close-low  high-low  open-close  Daily Lag  \n",
       "0     0.000      -0.075      0.250     0.325      -0.250        NaN  \n",
       "1     0.000      -0.125      0.075     0.200      -0.075      4.525  \n",
       "2     0.225      -0.025      0.275     0.300      -0.050      4.625  \n",
       "3     0.025      -0.025      0.050     0.075      -0.025      4.575  \n",
       "4     0.000       0.000      0.000     0.000       0.000      4.650  "
      ]
     },
     "execution_count": 42,
     "metadata": {},
     "output_type": "execute_result"
    }
   ],
   "source": [
    "data['Daily Lag'] = data['Close'].shift(1)\n",
    "data.head()"
   ]
  },
  {
   "cell_type": "code",
   "execution_count": 43,
   "id": "7094a61d",
   "metadata": {},
   "outputs": [
    {
     "data": {
      "text/html": [
       "<div>\n",
       "<style scoped>\n",
       "    .dataframe tbody tr th:only-of-type {\n",
       "        vertical-align: middle;\n",
       "    }\n",
       "\n",
       "    .dataframe tbody tr th {\n",
       "        vertical-align: top;\n",
       "    }\n",
       "\n",
       "    .dataframe thead th {\n",
       "        text-align: right;\n",
       "    }\n",
       "</style>\n",
       "<table border=\"1\" class=\"dataframe\">\n",
       "  <thead>\n",
       "    <tr style=\"text-align: right;\">\n",
       "      <th></th>\n",
       "      <th>Date</th>\n",
       "      <th>Open</th>\n",
       "      <th>High</th>\n",
       "      <th>Low</th>\n",
       "      <th>Close</th>\n",
       "      <th>Adj Close</th>\n",
       "      <th>Volume</th>\n",
       "      <th>open-high</th>\n",
       "      <th>open-low</th>\n",
       "      <th>close-high</th>\n",
       "      <th>close-low</th>\n",
       "      <th>high-low</th>\n",
       "      <th>open-close</th>\n",
       "      <th>Daily Lag</th>\n",
       "      <th>Daily Returns</th>\n",
       "    </tr>\n",
       "  </thead>\n",
       "  <tbody>\n",
       "    <tr>\n",
       "      <th>0</th>\n",
       "      <td>2000-01-03</td>\n",
       "      <td>4.275</td>\n",
       "      <td>4.600</td>\n",
       "      <td>4.275</td>\n",
       "      <td>4.525</td>\n",
       "      <td>2.269454</td>\n",
       "      <td>1728000</td>\n",
       "      <td>-0.325</td>\n",
       "      <td>0.000</td>\n",
       "      <td>-0.075</td>\n",
       "      <td>0.250</td>\n",
       "      <td>0.325</td>\n",
       "      <td>-0.250</td>\n",
       "      <td>NaN</td>\n",
       "      <td>NaN</td>\n",
       "    </tr>\n",
       "    <tr>\n",
       "      <th>1</th>\n",
       "      <td>2000-01-04</td>\n",
       "      <td>4.550</td>\n",
       "      <td>4.750</td>\n",
       "      <td>4.550</td>\n",
       "      <td>4.625</td>\n",
       "      <td>2.319607</td>\n",
       "      <td>1426000</td>\n",
       "      <td>-0.200</td>\n",
       "      <td>0.000</td>\n",
       "      <td>-0.125</td>\n",
       "      <td>0.075</td>\n",
       "      <td>0.200</td>\n",
       "      <td>-0.075</td>\n",
       "      <td>4.525</td>\n",
       "      <td>-0.021622</td>\n",
       "    </tr>\n",
       "    <tr>\n",
       "      <th>2</th>\n",
       "      <td>2000-01-05</td>\n",
       "      <td>4.525</td>\n",
       "      <td>4.600</td>\n",
       "      <td>4.300</td>\n",
       "      <td>4.575</td>\n",
       "      <td>2.294531</td>\n",
       "      <td>1746000</td>\n",
       "      <td>-0.075</td>\n",
       "      <td>0.225</td>\n",
       "      <td>-0.025</td>\n",
       "      <td>0.275</td>\n",
       "      <td>0.300</td>\n",
       "      <td>-0.050</td>\n",
       "      <td>4.625</td>\n",
       "      <td>0.010929</td>\n",
       "    </tr>\n",
       "    <tr>\n",
       "      <th>3</th>\n",
       "      <td>2000-01-06</td>\n",
       "      <td>4.625</td>\n",
       "      <td>4.675</td>\n",
       "      <td>4.600</td>\n",
       "      <td>4.650</td>\n",
       "      <td>2.347540</td>\n",
       "      <td>1268000</td>\n",
       "      <td>-0.050</td>\n",
       "      <td>0.025</td>\n",
       "      <td>-0.025</td>\n",
       "      <td>0.050</td>\n",
       "      <td>0.075</td>\n",
       "      <td>-0.025</td>\n",
       "      <td>4.575</td>\n",
       "      <td>-0.016129</td>\n",
       "    </tr>\n",
       "    <tr>\n",
       "      <th>4</th>\n",
       "      <td>2000-01-07</td>\n",
       "      <td>4.650</td>\n",
       "      <td>4.650</td>\n",
       "      <td>4.650</td>\n",
       "      <td>4.650</td>\n",
       "      <td>2.347540</td>\n",
       "      <td>0</td>\n",
       "      <td>0.000</td>\n",
       "      <td>0.000</td>\n",
       "      <td>0.000</td>\n",
       "      <td>0.000</td>\n",
       "      <td>0.000</td>\n",
       "      <td>0.000</td>\n",
       "      <td>4.650</td>\n",
       "      <td>0.000000</td>\n",
       "    </tr>\n",
       "  </tbody>\n",
       "</table>\n",
       "</div>"
      ],
      "text/plain": [
       "        Date   Open   High    Low  Close  Adj Close   Volume  open-high  \\\n",
       "0 2000-01-03  4.275  4.600  4.275  4.525   2.269454  1728000     -0.325   \n",
       "1 2000-01-04  4.550  4.750  4.550  4.625   2.319607  1426000     -0.200   \n",
       "2 2000-01-05  4.525  4.600  4.300  4.575   2.294531  1746000     -0.075   \n",
       "3 2000-01-06  4.625  4.675  4.600  4.650   2.347540  1268000     -0.050   \n",
       "4 2000-01-07  4.650  4.650  4.650  4.650   2.347540        0      0.000   \n",
       "\n",
       "   open-low  close-high  close-low  high-low  open-close  Daily Lag  \\\n",
       "0     0.000      -0.075      0.250     0.325      -0.250        NaN   \n",
       "1     0.000      -0.125      0.075     0.200      -0.075      4.525   \n",
       "2     0.225      -0.025      0.275     0.300      -0.050      4.625   \n",
       "3     0.025      -0.025      0.050     0.075      -0.025      4.575   \n",
       "4     0.000       0.000      0.000     0.000       0.000      4.650   \n",
       "\n",
       "   Daily Returns  \n",
       "0            NaN  \n",
       "1      -0.021622  \n",
       "2       0.010929  \n",
       "3      -0.016129  \n",
       "4       0.000000  "
      ]
     },
     "execution_count": 43,
     "metadata": {},
     "output_type": "execute_result"
    }
   ],
   "source": [
    "data['Daily Returns'] = (data['Daily Lag']/data['Close']) -1\n",
    "data.head()"
   ]
  },
  {
   "cell_type": "code",
   "execution_count": 47,
   "id": "2b77f93e",
   "metadata": {},
   "outputs": [
    {
     "data": {
      "text/plain": [
       "<AxesSubplot:>"
      ]
     },
     "execution_count": 47,
     "metadata": {},
     "output_type": "execute_result"
    },
    {
     "data": {
      "image/png": "[encoded data removed]",
      "text/plain": [
       "<Figure size 432x288 with 1 Axes>"
      ]
     },
     "metadata": {},
     "output_type": "display_data"
    }
   ],
   "source": [
    "data['Daily Returns'].hist(bins=40)"
   ]
  },
  {
   "cell_type": "code",
   "execution_count": 48,
   "id": "2967f86a",
   "metadata": {},
   "outputs": [
    {
     "name": "stdout",
     "output_type": "stream",
     "text": [
      "mean = 0.0003458510686008996\n",
      "Std deviation = 0.02532098508121967\n"
     ]
    }
   ],
   "source": [
    "mean = data['Daily Returns'].mean()\n",
    "std = data['Daily Returns'].std()\n",
    "print('mean =',mean)\n",
    "print('Std deviation =',std)"
   ]
  },
  {
   "cell_type": "code",
   "execution_count": 50,
   "id": "8605917d",
   "metadata": {},
   "outputs": [
    {
     "data": {
      "text/plain": [
       "<matplotlib.lines.Line2D at 0x1ebd8458550>"
      ]
     },
     "execution_count": 50,
     "metadata": {},
     "output_type": "execute_result"
    },
    {
     "data": {
      "image/png": "[encoded data removed]",
      "text/plain": [
       "<Figure size 432x288 with 1 Axes>"
      ]
     },
     "metadata": {},
     "output_type": "display_data"
    }
   ],
   "source": [
    "data['Daily Returns'].hist(bins=40)\n",
    "plt.axvline(mean,color='red',linestyle='dashed',linewidth=2)\n",
    "\n",
    "#to plot the std line we plot both the positive and negative values \n",
    "plt.axvline(std,color='g',linestyle='dashed',linewidth=2)\n",
    "plt.axvline(-std,color='g',linestyle='dashed',linewidth=2)"
   ]
  },
  {
   "cell_type": "markdown",
   "id": "8aa66cb8",
   "metadata": {},
   "source": [
    "Kurtosis tells you the ‘fatness’ of the tail and it is important because it tells you how ‘extreme’ can the values get. In our case, the value is positive, so this indicates that the chance of ‘extreme’ values are rare. (Note: the right way to actually ascertain this is using Z-value which I will show in another separarte tutorial!)"
   ]
  },
  {
   "cell_type": "code",
   "execution_count": 51,
   "id": "c3f6b3e6",
   "metadata": {},
   "outputs": [
    {
     "data": {
      "text/plain": [
       "396.21546670856844"
      ]
     },
     "execution_count": 51,
     "metadata": {},
     "output_type": "execute_result"
    }
   ],
   "source": [
    "data['Daily Returns'].kurtosis()"
   ]
  }
 ],
 "metadata": {
  "kernelspec": {
   "display_name": "Python 3 (ipykernel)",
   "language": "python",
   "name": "python3"
  },
  "language_info": {
   "codemirror_mode": {
    "name": "ipython",
    "version": 3
   },
   "file_extension": ".py",
   "mimetype": "text/x-python",
   "name": "python",
   "nbconvert_exporter": "python",
   "pygments_lexer": "ipython3",
   "version": "3.8.12"
  }
 },
 "nbformat": 4,
 "nbformat_minor": 5
}
